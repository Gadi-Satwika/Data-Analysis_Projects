{
 "cells": [
  {
   "cell_type": "markdown",
   "id": "f90e53af-61d0-4c68-8731-ee2c222be152",
   "metadata": {},
   "source": [
    "#Question1\n",
    "#Mean Speed of all rides "
   ]
  },
  {
   "cell_type": "markdown",
   "id": "b05b24c2-0198-4119-892e-f5963cb17aac",
   "metadata": {},
   "source": [
    "#Question2 \n",
    "#Number of rides taken in February"
   ]
  },
  {
   "cell_type": "markdown",
   "id": "aa2718ec-905a-439b-9db6-f6d96452bf80",
   "metadata": {},
   "source": [
    "#Question3 \n",
    "#Number of rides where tip greater than $50"
   ]
  },
  {
   "cell_type": "markdown",
   "id": "313a65c0-e6f4-4bd8-baff-cae01273983c",
   "metadata": {},
   "source": [
    "#Question4 \n",
    "#Number of rides where drop was JFK Airport"
   ]
  },
  {
   "cell_type": "code",
   "execution_count": 1,
   "id": "b8d22c35-4710-49aa-a77c-f14e16fddbf2",
   "metadata": {},
   "outputs": [],
   "source": [
    "import numpy as np"
   ]
  },
  {
   "cell_type": "code",
   "execution_count": 3,
   "id": "ed6f0899-fbcd-4376-9df6-1d1f5b59b24e",
   "metadata": {},
   "outputs": [],
   "source": [
    "taxi = np.genfromtxt('nyc_taxis.csv', delimiter = ',' , skip_header = True)"
   ]
  },
  {
   "cell_type": "code",
   "execution_count": 4,
   "id": "1b8d9caa-93ce-41f4-922f-bf765a0011e7",
   "metadata": {},
   "outputs": [],
   "source": [
    "distance = taxi[:,7]"
   ]
  },
  {
   "cell_type": "code",
   "execution_count": 5,
   "id": "b6ef12a9-f76a-465e-8ae6-6b582911c53f",
   "metadata": {},
   "outputs": [],
   "source": [
    "time_hrs = (taxi[:,8])/3600"
   ]
  },
  {
   "cell_type": "code",
   "execution_count": 25,
   "id": "571d0565-17c0-4008-aeca-a565ac5ebe4e",
   "metadata": {},
   "outputs": [],
   "source": [
    "speed = distance/time_hrs"
   ]
  },
  {
   "cell_type": "code",
   "execution_count": 26,
   "id": "55492219-2608-454b-ad36-bb2698505662",
   "metadata": {},
   "outputs": [
    {
     "data": {
      "text/plain": [
       "32.24258580925573"
      ]
     },
     "execution_count": 26,
     "metadata": {},
     "output_type": "execute_result"
    }
   ],
   "source": [
    "speed.mean()"
   ]
  },
  {
   "cell_type": "code",
   "execution_count": 27,
   "id": "d2324ad3-219d-4d7e-a408-3dfdb91ac65d",
   "metadata": {},
   "outputs": [],
   "source": [
    "#2\n",
    "number_of_rides = taxi[taxi[:,1] ==  2]"
   ]
  },
  {
   "cell_type": "code",
   "execution_count": 28,
   "id": "e4329ac4-f4a1-41e5-9dc9-97ef86431656",
   "metadata": {},
   "outputs": [
    {
     "data": {
      "text/plain": [
       "13333"
      ]
     },
     "execution_count": 28,
     "metadata": {},
     "output_type": "execute_result"
    }
   ],
   "source": [
    "number_of_rides.shape[0]"
   ]
  },
  {
   "cell_type": "code",
   "execution_count": 29,
   "id": "a8c5b12f-e71a-4141-b8b0-ae27edb3ceaf",
   "metadata": {},
   "outputs": [
    {
     "data": {
      "text/plain": [
       "16"
      ]
     },
     "execution_count": 29,
     "metadata": {},
     "output_type": "execute_result"
    }
   ],
   "source": [
    "#3\n",
    "number_of_rides_50 = taxi[taxi[:,12] >50]\n",
    "number_of_rides_50.shape[0]"
   ]
  },
  {
   "cell_type": "code",
   "execution_count": 30,
   "id": "98c3532a-cac0-40f9-923c-00637a1503bc",
   "metadata": {},
   "outputs": [
    {
     "data": {
      "text/plain": [
       "11832"
      ]
     },
     "execution_count": 30,
     "metadata": {},
     "output_type": "execute_result"
    }
   ],
   "source": [
    "#4\n",
    "jfk_airport_drop = taxi[taxi[:,6] == 2]\n",
    "jfk_airport_drop.shape[0]"
   ]
  },
  {
   "cell_type": "code",
   "execution_count": null,
   "id": "c8250631-92a7-4be8-bf98-9be1a5d112f8",
   "metadata": {},
   "outputs": [],
   "source": []
  }
 ],
 "metadata": {
  "kernelspec": {
   "display_name": "Python 3 (ipykernel)",
   "language": "python",
   "name": "python3"
  },
  "language_info": {
   "codemirror_mode": {
    "name": "ipython",
    "version": 3
   },
   "file_extension": ".py",
   "mimetype": "text/x-python",
   "name": "python",
   "nbconvert_exporter": "python",
   "pygments_lexer": "ipython3",
   "version": "3.12.7"
  }
 },
 "nbformat": 4,
 "nbformat_minor": 5
}
